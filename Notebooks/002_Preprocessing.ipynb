{
 "cells": [
  {
   "cell_type": "code",
   "execution_count": 1,
   "id": "eec91b8f",
   "metadata": {},
   "outputs": [],
   "source": [
    "import numpy as np \n",
    "import cv2 \n",
    "from glob import glob\n",
    "import matplotlib.pyplot as plt\n",
    "import os\n",
    "import pandas as pd\n",
    "import seaborn as sns"
   ]
  },
  {
   "cell_type": "code",
   "execution_count": 2,
   "id": "3c252aef",
   "metadata": {},
   "outputs": [],
   "source": [
    "# read data for training, testing and validation sets\n",
    "mpath_train = glob('./Cropped_data/Train/Male/*.jpg')\n",
    "fpath_train = glob('./Cropped_data/Train/Female/*.jpg')\n",
    "\n",
    "mpath_test = glob('./Cropped_data/Test/Male/*.jpg')\n",
    "fpath_test = glob('./Cropped_data/Test/Female/*.jpg')\n",
    "\n",
    "mpath_val = glob('./Cropped_data/Validation/Male/*.jpg')\n",
    "fpath_val = glob('./Cropped_data/Validation/Female/*.jpg')"
   ]
  },
  {
   "cell_type": "markdown",
   "id": "1d904c6a",
   "metadata": {},
   "source": [
    "### Structuring Data (pixels)"
   ]
  },
  {
   "cell_type": "code",
   "execution_count": 3,
   "id": "089cc4c8",
   "metadata": {},
   "outputs": [],
   "source": [
    "#building dataframe for training set\n",
    "df_male = pd.DataFrame(mpath_train, columns=['fpath'])\n",
    "df_male['gender'] = 'Male'\n",
    "df_female = pd.DataFrame(fpath_train, columns=['fpath'])\n",
    "df_female['gender'] = 'Female'\n",
    "\n",
    "df_train = pd.concat([df_male, df_female],ignore_index=True, axis = 0)\n",
    "\n",
    "#building dataframe for test set\n",
    "df_male = pd.DataFrame(mpath_test, columns=['fpath'])\n",
    "df_male['gender'] = 'Male'\n",
    "df_female = pd.DataFrame(fpath_test, columns=['fpath'])\n",
    "df_female['gender'] = 'Female'\n",
    "\n",
    "df_test = pd.concat([df_male, df_female],ignore_index=True, axis = 0)\n",
    "\n",
    "#building dataframe for validation set\n",
    "df_male = pd.DataFrame(mpath_val, columns=['fpath'])\n",
    "df_male['gender'] = 'Male'\n",
    "df_female = pd.DataFrame(fpath_val, columns=['fpath'])\n",
    "df_female['gender'] = 'Female'\n",
    "\n",
    "df_val = pd.concat([df_male, df_female], ignore_index=True, axis = 0)"
   ]
  },
  {
   "cell_type": "code",
   "execution_count": 4,
   "id": "6bde25f7",
   "metadata": {},
   "outputs": [],
   "source": [
    "for i in [df_train, df_test, df_val]:\n",
    "    i['dimension'] = i['fpath'].apply(lambda x: cv2.imread(x).shape[0])\n",
    "    \n",
    "dim = df_train['dimension'].tolist() + df_test['dimension'].tolist() + df_val['dimension'].tolist() "
   ]
  },
  {
   "cell_type": "code",
   "execution_count": 5,
   "id": "18776ccc",
   "metadata": {
    "scrolled": false
   },
   "outputs": [
    {
     "data": {
      "image/png": "[encoded data removed]",
      "text/plain": [
       "<Figure size 864x432 with 2 Axes>"
      ]
     },
     "metadata": {
      "needs_background": "light"
     },
     "output_type": "display_data"
    }
   ],
   "source": [
    "plt.figure(figsize=(12,6))\n",
    "plt.subplot(2,1,1)\n",
    "sns.boxplot(data=dim, orient=\"h\")\n",
    "plt.subplot(2,1,2)\n",
    "sns.histplot(data=dim)\n",
    "plt.show()"
   ]
  },
  {
   "cell_type": "code",
   "execution_count": 6,
   "id": "47869064",
   "metadata": {},
   "outputs": [],
   "source": [
    "# Only keep images of dimension >= 60\n",
    "df_train = df_train[df_train['dimension'] >=60]\n",
    "df_test = df_test[df_test['dimension'] >=60]\n",
    "df_val = df_val[df_val['dimension'] >=60]"
   ]
  },
  {
   "cell_type": "code",
   "execution_count": 7,
   "id": "9fd6a0c9",
   "metadata": {},
   "outputs": [
    {
     "data": {
      "text/plain": [
       "array([ 13,  31,  27, ..., 120, 141, 145], dtype=uint8)"
      ]
     },
     "execution_count": 7,
     "metadata": {},
     "output_type": "execute_result"
    }
   ],
   "source": [
    "# Resize all images to 100x100\n",
    "path = df_train['fpath'][0]\n",
    "img = cv2.imread(path)\n",
    "gray = cv2.cvtColor(img,cv2.COLOR_BGR2GRAY)\n",
    "\n",
    "if gray.shape[0] >= 100:\n",
    "    gray_resize = cv2.resize(gray,(100,100),cv2.INTER_AREA) # Shrink the image\n",
    "else:\n",
    "    gray_resize = cv2.resize(gray,(100,100),cv2.INTER_CUBIC) # Enlarge the image\n",
    "    \n",
    "flatten = gray_resize.flatten()\n",
    "\n",
    "flatten"
   ]
  },
  {
   "cell_type": "code",
   "execution_count": 8,
   "id": "17dcbc8f",
   "metadata": {},
   "outputs": [],
   "source": [
    "def structuring(path):\n",
    "    img = cv2.imread(path)\n",
    "    gray = cv2.cvtColor(img,cv2.COLOR_BGR2GRAY)\n",
    "\n",
    "    if gray.shape[0] >= 100:\n",
    "        gray_resize = cv2.resize(gray,(100,100),cv2.INTER_AREA) # Shrink the image\n",
    "    else:\n",
    "        gray_resize = cv2.resize(gray,(100,100),cv2.INTER_CUBIC) # Enlarge the image\n",
    "\n",
    "    flatten = gray_resize.flatten()\n",
    "\n",
    "    return flatten"
   ]
  },
  {
   "cell_type": "code",
   "execution_count": 9,
   "id": "df78c66f",
   "metadata": {},
   "outputs": [],
   "source": [
    "for i in [df_train, df_test, df_val]:\n",
    "    i['data'] = i['fpath'].apply(structuring)"
   ]
  },
  {
   "cell_type": "code",
   "execution_count": 10,
   "id": "05e03b85",
   "metadata": {},
   "outputs": [],
   "source": [
    "# form 10,000 columns of pixels\n",
    "data_train = df_train['data'].apply(pd.Series)\n",
    "data_test = df_test['data'].apply(pd.Series)\n",
    "data_val = df_val['data'].apply(pd.Series)"
   ]
  },
  {
   "cell_type": "code",
   "execution_count": 11,
   "id": "5911bcca",
   "metadata": {},
   "outputs": [],
   "source": [
    "# Normalize pixels by dividing 255 and save as arrays (independent variables)\n",
    "X_train = (data_train/255).to_numpy(dtype='float16')\n",
    "X_test = (data_test/255).to_numpy(dtype='float16')\n",
    "X_val = (data_val/255).to_numpy(dtype='float16')"
   ]
  },
  {
   "cell_type": "code",
   "execution_count": 12,
   "id": "5617b403",
   "metadata": {},
   "outputs": [],
   "source": [
    "# gender as dependent variables\n",
    "y_train = np.where(df_train['gender'] == 'Male', 1, 0)\n",
    "y_test = np.where(df_test['gender'] == 'Male', 1, 0)\n",
    "y_val = np.where(df_val['gender'] == 'Male', 1, 0)"
   ]
  },
  {
   "cell_type": "code",
   "execution_count": 13,
   "id": "1ea98eac",
   "metadata": {},
   "outputs": [],
   "source": [
    "np.savez_compressed('./Cropped_data/data_X', train=X_train, test=X_test, val=X_val)"
   ]
  },
  {
   "cell_type": "code",
   "execution_count": 14,
   "id": "c776f4dc",
   "metadata": {},
   "outputs": [],
   "source": [
    "np.savez('./Cropped_data/data_y', train=y_train, test=y_test, val=y_val)"
   ]
  },
  {
   "cell_type": "code",
   "execution_count": null,
   "id": "e1219139",
   "metadata": {},
   "outputs": [],
   "source": []
  }
 ],
 "metadata": {
  "kernelspec": {
   "display_name": "Python 3 (ipykernel)",
   "language": "python",
   "name": "python3"
  },
  "language_info": {
   "codemirror_mode": {
    "name": "ipython",
    "version": 3
   },
   "file_extension": ".py",
   "mimetype": "text/x-python",
   "name": "python",
   "nbconvert_exporter": "python",
   "pygments_lexer": "ipython3",
   "version": "3.9.7"
  }
 },
 "nbformat": 4,
 "nbformat_minor": 5
}
